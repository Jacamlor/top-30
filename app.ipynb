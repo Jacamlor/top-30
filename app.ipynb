{
 "cells": [
  {
   "cell_type": "code",
   "execution_count": 9,
   "metadata": {},
   "outputs": [
    {
     "name": "stdout",
     "output_type": "stream",
     "text": [
      "Collecting XlsxWriter\n",
      "  Downloading XlsxWriter-3.2.3-py3-none-any.whl.metadata (2.7 kB)\n",
      "Downloading XlsxWriter-3.2.3-py3-none-any.whl (169 kB)\n",
      "Installing collected packages: XlsxWriter\n",
      "Successfully installed XlsxWriter-3.2.3\n",
      "Note: you may need to restart the kernel to use updated packages.\n"
     ]
    }
   ],
   "source": [
    "pip install XlsxWriter\n"
   ]
  },
  {
   "cell_type": "code",
   "execution_count": 12,
   "metadata": {},
   "outputs": [
    {
     "name": "stdout",
     "output_type": "stream",
     "text": [
      "📁 Directorio actual: c:\\Users\\JACAM\\Desktop\\jose datos\n",
      "\n",
      "✅ Archivos generados correctamente:\n",
      "   📄 top_30_global.csv\n",
      "   📄 top_30_por_tienda.xlsx\n",
      "\n",
      "📊 La hoja 'RESUMEN' será la primera visible al abrir el archivo Excel.\n"
     ]
    }
   ],
   "source": [
    "import pandas as pd\n",
    "import os\n",
    "\n",
    "# === MOSTRAR DIRECTORIO ACTUAL ===\n",
    "print(f\"📁 Directorio actual: {os.getcwd()}\")\n",
    "\n",
    "# === PEDIR NOMBRE DEL ARCHIVO ===\n",
    "archivo = input(\"📂 Introduce el nombre o ruta completa del archivo (ej: PRUEBA TOP.txt): \").strip()\n",
    "if not os.path.isfile(archivo):\n",
    "    print(f\"❌ El archivo '{archivo}' no existe.\")\n",
    "    exit()\n",
    "\n",
    "# === CONFIGURACIÓN ===\n",
    "separador = \"\\t\"\n",
    "decimal = \",\"\n",
    "archivo_global = \"top_30_global.csv\"\n",
    "archivo_por_tienda_xlsx = \"top_30_por_tienda.xlsx\"\n",
    "\n",
    "# === TIENDAS PERMITIDAS ===\n",
    "tiendas_validas = {\n",
    "    \"01\", \"02\", \"03\", \"04\", \"05\", \"06\", \"07\", \"09\", \"11\", \"12\", \"13\", \"15\", \"16\", \"17\",\n",
    "    \"18\", \"19\", \"21\", \"22\", \"24\", \"25\", \"26\", \"27\", \"28\", \"29\", \"31\", \"33\", \"35\", \"36\",\n",
    "    \"37\", \"38\", \"39\", \"41\", \"42\"\n",
    "}\n",
    "\n",
    "# === CARGAR DATOS ===\n",
    "df = pd.read_csv(archivo, sep=separador, encoding=\"utf-8\", decimal=decimal)\n",
    "\n",
    "# === ELIMINAR FILAS CON \"online hombre\" EN CUALQUIER COLUMNA ===\n",
    "df = df[~df.apply(lambda fila: fila.astype(str).str.lower().str.contains(\"online hombre\").any(), axis=1)]\n",
    "\n",
    "# === IDENTIFICAR COLUMNAS V y S SEGÚN TIENDAS PERMITIDAS ===\n",
    "columnas_ventas = [col for col in df.columns if col.startswith(\"V\") and col[1:] in tiendas_validas]\n",
    "columnas_stock = [col for col in df.columns if col.startswith(\"S\") and col[1:] in tiendas_validas]\n",
    "\n",
    "# === CONVERTIR A NÚMEROS ===\n",
    "df[columnas_ventas + columnas_stock] = df[columnas_ventas + columnas_stock].apply(pd.to_numeric, errors='coerce')\n",
    "\n",
    "# === CALCULAR TOTALES Y TOP 30 ===\n",
    "df[\"Total_Ventas\"] = df[columnas_ventas].sum(axis=1, skipna=True)\n",
    "df[\"Total_Stock\"] = df[columnas_stock].sum(axis=1, skipna=True)\n",
    "top_30 = df.nlargest(30, \"Total_Ventas\").copy()\n",
    "\n",
    "# === ARCHIVO 1: GLOBAL ===\n",
    "top_30_global = top_30[[\"CODIGO\", \"ARTICULO\", \"DESCRIPCION\", \"Total_Ventas\", \"Total_Stock\"]]\n",
    "top_30_global.to_csv(archivo_global, index=False, encoding=\"utf-8-sig\", sep=\";\")\n",
    "\n",
    "# === ARCHIVO 2: EXCEL CON HOJA \"RESUMEN\" PRIMERO ===\n",
    "resumen_data = []\n",
    "\n",
    "with pd.ExcelWriter(archivo_por_tienda_xlsx, engine=\"xlsxwriter\") as writer:\n",
    "    # === PRIMERO: hoja \"RESUMEN\"\n",
    "    for tienda in columnas_stock:\n",
    "        productos_sin_stock = top_30[top_30[tienda] <= 0]\n",
    "        resumen_data.append({\"Tienda\": tienda, \"Productos_sin_stock\": len(productos_sin_stock)})\n",
    "\n",
    "    resumen_df = pd.DataFrame(resumen_data)\n",
    "    resumen_df.to_excel(writer, sheet_name=\"RESUMEN\", index=False)\n",
    "\n",
    "    # === DESPUÉS: hojas por tienda si hay productos sin stock\n",
    "    for tienda in columnas_stock:\n",
    "        productos_sin_stock = top_30[top_30[tienda] <= 0]\n",
    "        if not productos_sin_stock.empty:\n",
    "            columnas_a_mostrar = [\"CODIGO\", \"ARTICULO\", \"DESCRIPCION\", \"Total_Ventas\", tienda]\n",
    "            productos_sin_stock[columnas_a_mostrar].to_excel(writer, sheet_name=tienda, index=False)\n",
    "\n",
    "# === CONFIRMACIÓN ===\n",
    "print(f\"\\n✅ Archivos generados correctamente:\")\n",
    "print(f\"   📄 {archivo_global}\")\n",
    "print(f\"   📄 {archivo_por_tienda_xlsx}\")\n",
    "print(\"\\n📊 La hoja 'RESUMEN' será la primera visible al abrir el archivo Excel.\")\n"
   ]
  }
 ],
 "metadata": {
  "kernelspec": {
   "display_name": "nuevo_sql",
   "language": "python",
   "name": "python3"
  },
  "language_info": {
   "codemirror_mode": {
    "name": "ipython",
    "version": 3
   },
   "file_extension": ".py",
   "mimetype": "text/x-python",
   "name": "python",
   "nbconvert_exporter": "python",
   "pygments_lexer": "ipython3",
   "version": "3.11.11"
  }
 },
 "nbformat": 4,
 "nbformat_minor": 2
}
